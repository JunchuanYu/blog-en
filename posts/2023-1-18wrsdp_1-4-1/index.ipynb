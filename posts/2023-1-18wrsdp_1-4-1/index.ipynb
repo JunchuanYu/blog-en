{
 "cells": [
  {
   "cell_type": "raw",
   "metadata": {},
   "source": [
    "---\n",
    "title: ' 基于GEE的哨兵1号数据获取及水体提取 '\n",
    "subtitle: 'Work with Remote Sensing Data in Python: Lesson 1-4-1'\n",
    "author:\n",
    "  - 于峻川\n",
    "date: '2023-1-18'\n",
    "categories:\n",
    "  - Posts\n",
    "  - Deep leanring\n",
    "  - Teaching\n",
    "  - Workshop\n",
    "image: welcome.JPG\n",
    "toc: true\n",
    "---"
   ]
  },
  {
   "cell_type": "markdown",
   "metadata": {},
   "source": [
    "![](https://dunazo.oss-cn-beijing.aliyuncs.com/blog/WRSDP-3-2.png)"
   ]
  },
  {
   "cell_type": "markdown",
   "metadata": {},
   "source": [
    "# 练习1 基于GEE的哨兵1号数据获取及水体提取取\n",
    "### 1. 数据获取 "
   ]
  },
  {
   "cell_type": "markdown",
   "metadata": {},
   "source": [
    "本案例需要科学上网，成功安装geemap后方可使用，slope_correction函数封装在utils中，有需要的话请联系作者yujunchuan@mail.cgs.gov.cn"
   ]
  },
  {
   "cell_type": "code",
   "execution_count": 3,
   "metadata": {},
   "outputs": [],
   "source": [
    "import geemap #需安装geemap\n",
    "import ee\n",
    "# ee.Authenticate()\n",
    "geemap.set_proxy(port=33210) #根据自己电脑配置修改\n",
    "ee.Initialize()\n",
    "import math\n",
    "from utils import *"
   ]
  },
  {
   "cell_type": "markdown",
   "metadata": {},
   "source": [
    "定义必要的函数"
   ]
  },
  {
   "cell_type": "code",
   "execution_count": 4,
   "metadata": {},
   "outputs": [],
   "source": [
    "def clip_img(img):\n",
    "    return img.clip(region)\n",
    "\n",
    "def filtter_speckles(img):\n",
    "    vv=img.select('VV')\n",
    "    vh= img.select('VH')\n",
    "    vv_smoothed = vv.focal_mean(50,'circle','meters').rename('VV_Filtered')\n",
    "    vh_smoothed = vh.focal_mean(50,'circle','meters').rename('VH_Filtered')\n",
    "    return img.addBands(vv_smoothed).addBands(vh_smoothed)\n",
    "\n",
    "def SDWI(img):\n",
    "    VH = img.select(\"VH_mean\")\n",
    "    VV = img.select(\"VV_mean\")\n",
    "    x = VV.multiply(VH).multiply(ee.Number(10))\n",
    "    y=(x).log().rename('sdwi')\n",
    "    # sdwi=y.subtract(8)\n",
    "    file=img.addBands(y)\n",
    "    return file.select(\"sdwi\")\n",
    "def addDate(image):\n",
    "    date = ee.Date(image.get('system:time_start')).format('yyyyMMdd')\n",
    "    return image.set(\"image_date\",date) "
   ]
  },
  {
   "cell_type": "markdown",
   "metadata": {},
   "source": [
    "设定鄱阳湖区域范围"
   ]
  },
  {
   "cell_type": "code",
   "execution_count": null,
   "metadata": {},
   "outputs": [],
   "source": [
    "region=ee.Geometry.Polygon([[[115.795898, 28.623104],[116.779175, 28.623104],[116.779175, 29.441989],[115.795898, 29.441989],[115.795898, 28.623104]]])\n",
    "Map=geemap.Map()\n",
    "Map.center_object(region)\n",
    "Map.addLayer(region,{}, 'region')\n",
    "Map"
   ]
  },
  {
   "cell_type": "markdown",
   "metadata": {},
   "source": [
    "### 2. SDWI指数计算"
   ]
  },
  {
   "cell_type": "markdown",
   "metadata": {},
   "source": [
    "编写sdwi计算函数，如非山区可以不进行地形校正"
   ]
  },
  {
   "cell_type": "code",
   "execution_count": 6,
   "metadata": {},
   "outputs": [],
   "source": [
    "def sdwi_cal(data):\n",
    "    corrected = slope_correction(data).main().map(clip_img)\n",
    "    VV = corrected.mean().select('VV')\n",
    "    VH = corrected.mean().select('VH')\n",
    "    # Map.addLayer(VV, {'bands':['VV'], 'min':[-21], 'max':[0.5], 'gamma': 0.65}, 'SAR_RGB_VV')\n",
    "    # Map.addLayer(VH, {'bands':['VH'], 'min':[-28], 'max':[4], 'gamma': 0.65}, 'SAR_RGB_VH')\n",
    "    S1 = corrected.map(filtter_speckles)\n",
    "    name=S1.select(\"VV_Filtered\").first().get(\"image_date\")\n",
    "    SVV = S1.select(\"VV_Filtered\").reduce(ee.Reducer.mean()).rename(\"VV_mean\").set('image_date',name)\n",
    "    SVH = S1.select(\"VH_Filtered\").reduce(ee.Reducer.mean()).rename(\"VH_mean\").set('image_date',name)\n",
    "    Sen1=SVV.addBands(SVH)\n",
    "    sdwi = SDWI(Sen1).select('sdwi')\n",
    "    # Map.addLayer(sdwi,{'bands':['sdwi'], 'min':[8], 'max':[10], 'gamma': 0.65}, 'sdwi')\n",
    "    return sdwi"
   ]
  },
  {
   "cell_type": "markdown",
   "metadata": {},
   "source": [
    "根据阅读计算sdwi"
   ]
  },
  {
   "cell_type": "code",
   "execution_count": 7,
   "metadata": {},
   "outputs": [],
   "source": [
    "def monthly_sdwi(mon):\n",
    "    start=ee.Date.fromYMD(year=2022,month=mon,day=1)\n",
    "    end=start.advance(1.0,'month')\n",
    "    data = (ee.ImageCollection('COPERNICUS/S1_GRD')\n",
    "            .filterBounds(region)\n",
    "            .filterMetadata('transmitterReceiverPolarisation','equals',[\"VV\", \"VH\"])\n",
    "            .filterMetadata('instrumentMode','equals','IW')\n",
    "            .filterDate(start, end)\n",
    "            .map(addDate))\n",
    "    sdwi=sdwi_cal(data)\n",
    "    name=sdwi.get(\"image_date\")\n",
    "    return sdwi"
   ]
  },
  {
   "cell_type": "code",
   "execution_count": 8,
   "metadata": {},
   "outputs": [
    {
     "data": {
      "application/vnd.jupyter.widget-view+json": {
       "model_id": "c8faaee36bf34a0985d95a8343a560f3",
       "version_major": 2,
       "version_minor": 0
      },
      "text/plain": [
       "Map(bottom=54782.0, center=[29.03299796551, 116.28753650000002], controls=(WidgetControl(options=['position', …"
      ]
     },
     "metadata": {},
     "output_type": "display_data"
    }
   ],
   "source": [
    "monthly=ee.ImageCollection(ee.List.sequence(6,9).map(monthly_sdwi))\n",
    "bandname=monthly.aggregate_array('image_date')\n",
    "singlesdwi=monthly.toBands().rename(bandname) \n",
    "for i in range(4):\n",
    "    Map.addLayer(singlesdwi.select(i).updateMask(singlesdwi.select(i).gte(8.5)),  {\"palette\":['6a5acd']}, \"swdi\"+str(i))\n",
    "Map\n"
   ]
  },
  {
   "cell_type": "markdown",
   "metadata": {},
   "source": [
    "### 3. 水面变化分析"
   ]
  },
  {
   "cell_type": "markdown",
   "metadata": {},
   "source": [
    "通过多视角查看前后水体变化"
   ]
  },
  {
   "cell_type": "code",
   "execution_count": null,
   "metadata": {},
   "outputs": [],
   "source": [
    "Map=geemap.Map()\n",
    "Map.center_object(region)\n",
    "Map.split_map(left_layer='SATELLITE', right_layer='SATELLITE')\n",
    "vis= {\"palette\":['6a5acd']}\n",
    "left_layer=geemap.ee_tile_layer(singlesdwi.select(0).updateMask(singlesdwi.select(0).gte(8.5)), vis,name='2022-06')\n",
    "right_layer=geemap.ee_tile_layer(singlesdwi.select(3).updateMask(singlesdwi.select(3).gte(8.5)), vis,name='2022-09')\n",
    "Map.split_map(left_layer, right_layer)\n",
    "Map"
   ]
  },
  {
   "cell_type": "markdown",
   "metadata": {},
   "source": [
    "![](https://dunazo.oss-cn-beijing.aliyuncs.com/blog/twostage.JPG)"
   ]
  },
  {
   "cell_type": "markdown",
   "metadata": {},
   "source": [
    "年度12个月变化监测，提取永久水体"
   ]
  },
  {
   "cell_type": "code",
   "execution_count": 10,
   "metadata": {},
   "outputs": [],
   "source": [
    "monthly=ee.ImageCollection(ee.List.sequence(1,12).map(monthly_sdwi))\n",
    "bandname=monthly.aggregate_array('image_date')\n",
    "singlesdwi=monthly.toBands().rename(bandname) \n",
    "for i in range(0,12):\n",
    "    if i ==0:\n",
    "        initial=singlesdwi.select(0).where(singlesdwi.select(i).lte(8.5),0).where(singlesdwi.select(i).gt(8.5),1)\n",
    "    else:\n",
    "        final=singlesdwi.select(i).where(singlesdwi.select(i).lte(8.5),0).where(singlesdwi.select(i).gt(8.5),1)\n",
    "        initial=initial.add(final)"
   ]
  },
  {
   "cell_type": "code",
   "execution_count": null,
   "metadata": {},
   "outputs": [
    {
     "data": {
      "application/vnd.jupyter.widget-view+json": {
       "model_id": "8d88ccaf928a4659ae2d3e8a608b76f8",
       "version_major": 2,
       "version_minor": 0
      },
      "text/plain": [
       "Map(center=[29.03299796551, 116.28753650000002], controls=(WidgetControl(options=['position', 'transparent_bg'…"
      ]
     },
     "metadata": {},
     "output_type": "display_data"
    }
   ],
   "source": [
    "Map.addLayer(initial, {\"min\":[1],\"max\":[12], \"palette\":['ffffff', '99d9ea', '0000ff']}, \"water\")\n",
    "Map"
   ]
  },
  {
   "cell_type": "markdown",
   "metadata": {},
   "source": [
    "![](https://dunazo.oss-cn-beijing.aliyuncs.com/blog/change.JPG)"
   ]
  },
  {
   "cell_type": "markdown",
   "metadata": {},
   "source": [
    "### 4. 下载提取结果"
   ]
  },
  {
   "cell_type": "code",
   "execution_count": null,
   "metadata": {},
   "outputs": [],
   "source": [
    "for i in range(8):\n",
    "    img=singlesdwi.select(i)\n",
    "    img=img.setDefaultProjection('epsg:4326',None,10)\n",
    "    name=singlesdwi.bandNames().getInfo()\n",
    "    outname = './sentinel_'+name[i]+str(i)+\".tif\"\n",
    "    geemap.download_ee_image(img, filename=outname,scale=10,region=region,crs='EPSG:4326')"
   ]
  },
  {
   "cell_type": "markdown",
   "metadata": {},
   "source": [
    "----------------------------------------\n",
    "想了解更多请关注[45度科研人]公众号，欢迎给我留言！\n",
    "<span style=\"display: block; text-align: center; margin-left: auto; margin-right: auto;\">\n",
    "    <img src=\"https://dunazo.oss-cn-beijing.aliyuncs.com/blog/wechat-simple.png\" width=\"300\"  alt=\"\">\n",
    "</span>"
   ]
  },
  {
   "cell_type": "markdown",
   "metadata": {},
   "source": []
  }
 ],
 "metadata": {
  "kernelspec": {
   "display_name": "Python 3.10.6 ('gee')",
   "language": "python",
   "name": "python3"
  },
  "language_info": {
   "codemirror_mode": {
    "name": "ipython",
    "version": 3
   },
   "file_extension": ".py",
   "mimetype": "text/x-python",
   "name": "python",
   "nbconvert_exporter": "python",
   "pygments_lexer": "ipython3",
   "version": "3.9.12"
  },
  "orig_nbformat": 4,
  "vscode": {
   "interpreter": {
    "hash": "265ca84a303a0ac0a26aa02a295a3a8cb62150533ea47d1e492ef3394ff0d928"
   }
  }
 },
 "nbformat": 4,
 "nbformat_minor": 2
}
