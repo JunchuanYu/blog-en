{
 "cells": [
  {
   "cell_type": "raw",
   "id": "6a2f4229",
   "metadata": {},
   "source": [
    "---\n",
    "title: ' Dynamic world data download'\n",
    "subtitle: 'Using Google Earth Engine in python'\n",
    "author:\n",
    "  - Junchuan Yu\n",
    "date: '2023-1-27'\n",
    "categories:\n",
    "  - Posts\n",
    "  - Deep leanring\n",
    "  - Teaching\n",
    "  - GEE\n",
    "image: welcome.JPG\n",
    "toc: true\n",
    "---"
   ]
  },
  {
   "cell_type": "markdown",
   "id": "ca0307d6",
   "metadata": {},
   "source": [
    "# Dynamic World data download"
   ]
  },
  {
   "cell_type": "markdown",
   "id": "c9535845",
   "metadata": {},
   "source": [
    "![](https://dunazo.oss-cn-beijing.aliyuncs.com/blog/DW_hero.gif)"
   ]
  },
  {
   "cell_type": "markdown",
   "id": "1cce523d",
   "metadata": {},
   "source": [
    "<p align=\"justify \">The real world is as dynamic as the people and natural processes that shape it. Dynamic World is a near realtime 10m resolution global land use land cover dataset, produced using deep learning, freely available and openly licensed. It is the result of a partnership between Google and the World Resources Institute, to produce a dynamic dataset of the physical material on the surface of the Earth. Dynamic World is intended to be used as a data product for users to add custom rules with which to assign final class values, producing derivative land cover maps.</p>\n",
    "Key innovations of Dynamic World\n",
    " \n",
    "1. <p align=\"justify \">Near realtime data. Over 5000 Dynamic World image are produced every day, whereas traditional approaches to building land cover data can take months or years to produce. As a result of leveraging a novel deep learning approach, based on Sentinel-2 Top of Atmosphere, Dynamic World offers global land cover updating every 2-5 days depending on location.</p>\n",
    "\n",
    "2. <p align=\"justify \">Per-pixel probabilities across 9 land cover classes. A major benefit of an AI-powered approach is the model looks at an incoming Sentinel-2 satellite image and, for every pixel in the image, estimates the degree of tree cover, how built up a particular area is, or snow coverage if there’s been a recent snowstorm, for example.</p>\n",
    "\n",
    "3. <p align=\"justify \">Ten meter resolution. As a result of the European Commission’s Copernicus Programme making European Space Agency Sentinel data freely and openly available, products like Dynamic World are able to offer 10m resolution land cover data. This is important because quantifying data in higher resolution produces more accurate results for what’s really on the surface of the Earth.</p>"
   ]
  },
  {
   "cell_type": "markdown",
   "id": "1828189d",
   "metadata": {},
   "source": [
    "* App: [www.dynamicworld.app](https://www.dynamicworld.app/)\n",
    "* Paper: [Dynamic World, Near real-time global 10m land use land cover mapping](https://www.nature.com/articles/s41597-022-01307-4)\n",
    "* Model: [github](https://github.com/google/dynamicworld)\n",
    "* Geedata: [Dynamic World V1](https://developers.google.com/earth-engine/datasets/catalog/GOOGLE_DYNAMICWORLD_V1)"
   ]
  },
  {
   "cell_type": "markdown",
   "id": "22b09b11",
   "metadata": {},
   "source": [
    "This tutorial explains how to download training data for Dynamic Earth using geemap"
   ]
  },
  {
   "cell_type": "markdown",
   "id": "c4a55fa8",
   "metadata": {},
   "source": [
    "### 1. Import the necessary lib"
   ]
  },
  {
   "cell_type": "code",
   "execution_count": 1,
   "id": "7950bc9a",
   "metadata": {},
   "outputs": [],
   "source": [
    "import geemap\n",
    "import ee\n",
    "# ee.Authenticate()\n",
    "geemap.set_proxy(port=33210)\n",
    "ee.Initialize()\n",
    "import os\n",
    "import pandas   as  pd\n",
    "import numpy as np\n",
    "from  pyproj  import  CRS,Transformer\n"
   ]
  },
  {
   "cell_type": "markdown",
   "id": "0222a913",
   "metadata": {},
   "source": [
    "Map visualization"
   ]
  },
  {
   "cell_type": "code",
   "execution_count": null,
   "id": "3d331022",
   "metadata": {},
   "outputs": [],
   "source": [
    "Map = geemap.Map()\n",
    "Map.add_basemap('HYBRID')\n",
    "region = ee.Geometry.BBox(-89.7088, 42.9006, -89.0647, 43.2167)\n",
    "Map.centerObject(region)\n",
    "image = geemap.dynamic_world_s2(region, '2021-01-01', '2022-01-01')\n",
    "vis_params = {'bands': ['B4', 'B3', 'B2'], 'min': 0, 'max': 3000}\n",
    "landcover = geemap.dynamic_world(region, '2021-01-01', '2022-01-01', return_type='hillshade')\n",
    "Map.addLayer(landcover, {}, 'Land Cover')\n",
    "Map.add_legend(title=\"Dynamic World Land Cover\", builtin_legend='Dynamic_World')\n",
    "Map\n"
   ]
  },
  {
   "cell_type": "markdown",
   "id": "0c04ed6b",
   "metadata": {},
   "source": [
    "![](https://dunazo.oss-cn-beijing.aliyuncs.com/blog/welcome.JPG)"
   ]
  },
  {
   "cell_type": "markdown",
   "id": "ea0434d1",
   "metadata": {},
   "source": [
    "### 2. Download data \n",
    "<p align=\"justify \"> Construct a data combination with 8 bands, and use the data region, ID and other information provided by the paper to download image patches.<p>"
   ]
  },
  {
   "cell_type": "code",
   "execution_count": 29,
   "id": "b8dccf02",
   "metadata": {},
   "outputs": [],
   "source": [
    "## cloud remove\n",
    "def rmCloudByQA(image):\n",
    "    qa = image.select('QA60')\n",
    "    cloudBitMask = 1 << 10\n",
    "    cirrusBitMask = 1 << 11 \n",
    "    mask =qa.bitwiseAnd(cloudBitMask).eq(0)and(qa.bitwiseAnd(cirrusBitMask).eq(0))\n",
    "    return image.updateMask(mask).toFloat().divide(1e4)\n",
    "## convert utm to geo\n",
    "def utm_to_geo(region,crs):\n",
    "    strline=region.split('(',2)[-1].split(')',2)[0].split(', ')\n",
    "    ymin,xmin=np.array(strline[0].split(' '))\n",
    "    ymax,xmax=np.array(strline[2].split(' '))\n",
    "    ocrs = CRS.from_string(crs)\n",
    "    transformer = Transformer.from_crs(ocrs,'epsg:4326')\n",
    "    ymin,xmin=transformer.transform(ymin,xmin)\n",
    "    ymax,xmax=transformer.transform(ymax,xmax)\n",
    "    return xmin,ymin,xmax,ymax\n",
    "## Construct the 8-band data combination: Red,Green,Blue,Nir,Swir1,Swir2,MNDWI,Slope\n",
    "def collection_cal(region,tiles,crs):\n",
    "    s2Img = ee.ImageCollection('COPERNICUS/S2_SR')\n",
    "    DEM = ee.Image('USGS/SRTMGL1_003')\n",
    "    DEM_clip = DEM.setDefaultProjection(crs,None,10).clip(region)\n",
    "    slope = ee.Terrain.slope(DEM_clip)\n",
    "    S = s2Img.filter(ee.Filter.inList('system:index',tiles)).filterBounds(region).filter(ee.Filter.lt('CLOUDY_PIXEL_PERCENTAGE', 60)).map(rmCloudByQA).select('B.*').first().setDefaultProjection(crs,None,10)\n",
    "    S2=S.clip(region)\n",
    "    MNDWI = S2.normalizedDifference(['B3','B11']).rename(['MNDWI']).add(ee.Number(1))\n",
    "    DBANDS=S2.select(['B4','B3','B2','B8','B11','B12'])\n",
    "    final=DBANDS.addBands(MNDWI).addBands(slope).setDefaultProjection(crs,None,10)\n",
    "    return final\n",
    "## download function\n",
    "def download_img(image,basename,out_dir):\n",
    "    dw_id=basename+'.tif'\n",
    "    # out_dir = os.path.expanduser(outdir)\n",
    "    out_dem_stats = os.path.join(out_dir, dw_id)\n",
    "    geemap.download_ee_image(image,out_dem_stats, num_threads=10,scale=10)\n"
   ]
  },
  {
   "cell_type": "code",
   "execution_count": 25,
   "id": "11ce707e",
   "metadata": {},
   "outputs": [],
   "source": [
    "## visual check if if required\n",
    "# Map = geemap.Map()\n",
    "# Map.centerObject(region)\n",
    "# Map.addLayer(region,{},'img')\n",
    "# Map"
   ]
  },
  {
   "cell_type": "markdown",
   "id": "2eeb698b",
   "metadata": {},
   "source": [
    "<p align=\"justify \"> The expert data in the table is downloaded here, and the label file can be downloaded through the link provided in the paper. During the download process, the file download may fail due to network reasons. In this case, you can try a few more times.<p>"
   ]
  },
  {
   "cell_type": "code",
   "execution_count": 33,
   "id": "e2dd2ee7",
   "metadata": {
    "scrolled": false
   },
   "outputs": [
    {
     "name": "stdout",
     "output_type": "stream",
     "text": [
      "1281 20190112T012711_20190112T012712_T53MMR\n"
     ]
    },
    {
     "data": {
      "application/vnd.jupyter.widget-view+json": {
       "model_id": "56d5e65917c34ed78e840d3a5044eeea",
       "version_major": 2,
       "version_minor": 0
      },
      "text/plain": [
       "dw_134.8043201769_-4.0010352536-20190112.tif: |          | 0.00/8.37M (raw) [  0.0%] in 00:00 (eta:     ?)"
      ]
     },
     "metadata": {},
     "output_type": "display_data"
    },
    {
     "name": "stdout",
     "output_type": "stream",
     "text": [
      "1289 20190510T004711_20190510T004710_T54LYR\n"
     ]
    },
    {
     "data": {
      "application/vnd.jupyter.widget-view+json": {
       "model_id": "619f0e269f9e448aa668b817ed7ffe2b",
       "version_major": 2,
       "version_minor": 0
      },
      "text/plain": [
       "dw_143.5962225608_-8.6793009745-20190510.tif: |          | 0.00/8.47M (raw) [  0.0%] in 00:00 (eta:     ?)"
      ]
     },
     "metadata": {},
     "output_type": "display_data"
    }
   ],
   "source": [
    "data=pd.read_csv('./expert.csv')\n",
    "outdir='c:/temp/'\n",
    "for index, row in data.iterrows():\n",
    "    basename= row['dw_id']\n",
    "    S2_GEE_ID= row['S2_GEE_ID']    \n",
    "    crs= row['crs'] \n",
    "    tiles=[S2_GEE_ID]\n",
    "    outfile = os.path.join(outdir, basename+'.tif')\n",
    "    if os.path.exists(outfile):\n",
    "    # if index < 3035:\n",
    "        pass\n",
    "    else:\n",
    "        region= row['geometry']\n",
    "        print(index,S2_GEE_ID)\n",
    "        xmin,ymin,xmax,ymax=utm_to_geo(region,crs)\n",
    "        regionClip = ee.Geometry.BBox(xmin,ymin,xmax,ymax)\n",
    "        ImgTiles=collection_cal(regionClip,tiles,crs)\n",
    "        download_img(ImgTiles,basename,outdir)\n",
    "        # if index % 50==0:\n",
    "        #     print('downloading......No.: '+str(index))"
   ]
  },
  {
   "cell_type": "code",
   "execution_count": null,
   "id": "b429e8c9",
   "metadata": {},
   "outputs": [],
   "source": []
  }
 ],
 "metadata": {
  "kernelspec": {
   "display_name": "Python 3.9.12 ('gee')",
   "language": "python",
   "name": "python3"
  },
  "language_info": {
   "codemirror_mode": {
    "name": "ipython",
    "version": 3
   },
   "file_extension": ".py",
   "mimetype": "text/x-python",
   "name": "python",
   "nbconvert_exporter": "python",
   "pygments_lexer": "ipython3",
   "version": "3.9.12"
  },
  "vscode": {
   "interpreter": {
    "hash": "265ca84a303a0ac0a26aa02a295a3a8cb62150533ea47d1e492ef3394ff0d928"
   }
  }
 },
 "nbformat": 4,
 "nbformat_minor": 5
}
